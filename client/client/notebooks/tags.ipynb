{
 "metadata": {
  "language_info": {
   "codemirror_mode": {
    "name": "ipython",
    "version": 3
   },
   "file_extension": ".py",
   "mimetype": "text/x-python",
   "name": "python",
   "nbconvert_exporter": "python",
   "pygments_lexer": "ipython3",
   "version": "3.8.10"
  },
  "orig_nbformat": 4,
  "kernelspec": {
   "name": "python3",
   "display_name": "Python 3.8.10 64-bit"
  },
  "interpreter": {
   "hash": "31f2aee4e71d21fbe5cf8b01ff0e069b9275f58929596ceb00d14d90e3e16cd6"
  }
 },
 "nbformat": 4,
 "nbformat_minor": 2,
 "cells": [
  {
   "source": [
    "Trying to emulate what lich.rb::XMLParser does to get a handle on how it works"
   ],
   "cell_type": "markdown",
   "metadata": {}
  },
  {
   "source": [
    "Reference to main xml parsing method\n",
    "\n",
    "```\n",
    "   if str = @buffer.slice!(/^[^<]+/)\n",
    "      text(str.gsub(/&(lt|gt|quot|apos|amp)/) { @unescape[$1] })\n",
    "   elsif str = @buffer.slice!(/^<\\/[^<]+>/)\n",
    "      element = /^<\\/([^\\s>\\/]+)/.match(str).captures.first\n",
    "      tag_end(element)\n",
    "   elsif str = @buffer.slice!(/^<[^<]+>/)\n",
    "      element = /^<([^\\s>\\/]+)/.match(str).captures.first\n",
    "      attributes = Hash.new\n",
    "      str.scan(/([A-z][A-z0-9_\\-]*)=([\"'])(.*?)\\2/).each { |attr| attributes[attr[0]] = attr[2] }\n",
    "      tag_start(element, attributes)\n",
    "      tag_end(element) if str =~ /\\/>$/\n",
    "   else\n",
    "      break\n",
    "   end"
   ],
   "cell_type": "markdown",
   "metadata": {}
  },
  {
   "cell_type": "code",
   "execution_count": 60,
   "metadata": {},
   "outputs": [
    {
     "output_type": "execute_result",
     "data": {
      "text/plain": [
       "['Please wait for connection to game server.\\n',\n",
       " \"<playerID id='440984'/>\\n\",\n",
       " '<mode id=\"GAME\"/><settingsInfo  client=\"1.0.1.26\" major=\"652\" crc=\\'1714388481\\' instance=\\'DR\\'/>\\n',\n",
       " '\\n',\n",
       " 'Welcome to DragonRealms (R) v2.00\\n',\n",
       " 'Copyright 2021 Simutronics Corp.\\n',\n",
       " 'All Rights Reserved\\n',\n",
       " '<mode id=\"GAME\"/>\\n',\n",
       " '<app char=\"Crannach\" game=\"DR\" title=\"[DR: Crannach] StormFront\"/>\\n',\n",
       " '<streamWindow id=\"main\" title=\"Story\" location=\"center\" target=\"drop\" resident=\"true\"/>\\n']"
      ]
     },
     "metadata": {},
     "execution_count": 60
    }
   ],
   "source": [
    "import pathlib\n",
    "import html\n",
    "import re\n",
    "\n",
    "log = pathlib.Path.cwd() / \"tags-sample.log\"\n",
    "with open(log) as infile:\n",
    "    lines = infile.readlines()\n",
    "lines[:10]"
   ]
  },
  {
   "cell_type": "code",
   "execution_count": 61,
   "metadata": {},
   "outputs": [],
   "source": [
    "# TODO: Visitor pattern?\n",
    "\n",
    "class XMLParser:\n",
    "    \"\"\"Parser for Dragonrealms tags, directly translated from lich.rb\"\"\"\n",
    "    def __init__(self):\n",
    "        self.buffer = \"\"\n",
    "        self.active_tags = []\n",
    "        self.last_tag = None\n",
    "        self.active_ids = []\n",
    "        self.last_id = None\n",
    "        self.bold = False\n",
    "        self.player_id = None\n",
    "        self.game = None\n",
    "        self.current_stream = \"\"\n",
    "        self.current_style = \"\"\n",
    "        self.prompt = \"\"\n",
    "\n",
    "        # TODO: Rename unesc, its actually just looking for anything thats not a tag. Unescaping is just an addon.\n",
    "        self.unesc_re = re.compile(r\"^[^<]+\")\n",
    "        self.end_re = re.compile(r\"^<\\/[^<]+>\")\n",
    "        self.end_info_re = re.compile(r\"^<\\/([^\\s>\\/]+)\")\n",
    "        self.start_re = re.compile(r\"^<[^<]+>\")\n",
    "        self.start_info_re = re.compile(r\"^<([^\\s>\\/]+)\")\n",
    "        self.attr_re = re.compile(r\"([A-z][A-z0-9_\\-]*)=([\\\"'])(.*?)\\2\")\n",
    "\n",
    "        self._strip_xml_multiline = \"\"\n",
    "\n",
    "    def text(self, text_string):\n",
    "        if self.active_tags and self.active_tags[-1] == 'prompt':\n",
    "            self.prompt = text_string\n",
    "        return text_string\n",
    "\n",
    "    def parse(self, line):\n",
    "        self.buffer += line\n",
    "        m = self.unesc_re.match(line)\n",
    "        if m:\n",
    "            self.buffer = self.unesc_re.sub(self.buffer, \"\")\n",
    "            line = self.unesc_re.sub(self.buffer, \"\")\n",
    "            # line = html.unescape(line)\n",
    "            self.text(html.unescape(line))\n",
    "            if line:\n",
    "                return line\n",
    "        m = self.end_re.match(line)\n",
    "        if m:\n",
    "            info_match = self.end_info_re.match(m.group(0))\n",
    "        m = self.start_re.match(line)\n",
    "        if m:\n",
    "            info = self.start_info_re.match(m.group(0))\n",
    "            if info:\n",
    "                element = info.group(1)\n",
    "                attributes = {}\n",
    "                for attr in self.attr_re.finditer(line):\n",
    "                    attributes[attr.group(1)] = attr.group(3)\n",
    "                self.tag_start(element, attributes)\n",
    "                self.tag_end(element)\n",
    "            return line\n",
    "        return line\n",
    "        \n",
    "    def tag_start(self, name, attributes):\n",
    "        self.active_tags.append(name)\n",
    "        if 'id' in attributes:\n",
    "            self.active_ids.append(attributes['id'])\n",
    "\n",
    "        if name == \"pushBold\":\n",
    "            self.bold = True\n",
    "        elif name == \"popBold\":\n",
    "            self.bold = False\n",
    "        elif name == 'playerID':\n",
    "            self.player_id = attributes['id']\n",
    "        elif name == \"settingsInfo\":\n",
    "            if 'instance' in attributes:\n",
    "                self.game = attributes['instance']\n",
    "\n",
    "    def tag_end(self, name):\n",
    "        if self.active_tags:\n",
    "            self.last_tag = self.active_tags.pop()\n",
    "        if self.active_ids:\n",
    "            self.last_id = self.active_ids.pop()\n",
    "\n",
    "    def strip(self, line: str) -> str:\n",
    "        if line == \"\\r\\n\": return line\n",
    "\n",
    "        if self._strip_xml_multiline:\n",
    "            self._strip_xml_multiline += line\n",
    "            line = self._strip_xml_multiline\n",
    "        if len(re.split(r\"<pushStream[^>]*\\/>\", line)) > len(re.split(r\"<popStream[^>]*\\/>\", line)):\n",
    "            self._strip_xml_multiline = line\n",
    "            return \"\"\n",
    "        # Reset\n",
    "        self._strip_xml_multiline = \"\"\n",
    "\n",
    "        line = re.sub(r\"<pushStream id=[\\\"'](?:spellfront|inv|bounty|society|speech|talk)[\\\"'][^>]*\\/>.*?<popStream[^>]*>\", \"\", line, flags=re.MULTILINE)\n",
    "        line = re.sub(r'<stream id=\"Spells\">.*?<\\/stream>', \"\", line, flags=re.MULTILINE)\n",
    "        line = re.sub(r\"<(compDef|inv|component|right|left|spell|prompt)[^>]*>.*?<\\/\\1>\", \"\", line, flags=re.MULTILINE)\n",
    "        line = re.sub(r\"<[^>]+>\", \"\", line)\n",
    "        line = html.unescape(line)\n",
    "        if not line.strip():\n",
    "            return \"\"\n",
    "        return line\n",
    "\n",
    "    def reset(self):\n",
    "        self.current_stream = \"\"\n",
    "        self.current_style = \"\"\n",
    "        self.active_tags = []\n",
    "        self.active_ids = []"
   ]
  },
  {
   "cell_type": "code",
   "execution_count": 62,
   "metadata": {
    "tags": []
   },
   "outputs": [],
   "source": [
    "parser = XMLParser()\n",
    "for line in lines:\n",
    "    parser.parse(line)\n",
    "\n",
    "assert parser.player_id == '440984'\n"
   ]
  },
  {
   "source": [
    "Strip xml from output\n",
    "\n",
    "Reference:\n",
    "\n",
    "```\n",
    "def strip_xml(line)\n",
    "   return line if line == \"\\r\\n\"\n",
    "\n",
    "   if $strip_xml_multiline\n",
    "      $strip_xml_multiline = $strip_xml_multiline + line\n",
    "      line = $strip_xml_multiline\n",
    "   end\n",
    "   if (line.scan(/<pushStream[^>]*\\/>/).length > line.scan(/<popStream[^>]*\\/>/).length)\n",
    "      $strip_xml_multiline = line\n",
    "      return nil\n",
    "   end\n",
    "   $strip_xml_multiline = nil\n",
    "\n",
    "   line = line.gsub(/<pushStream id=[\"'](?:spellfront|inv|bounty|society|speech|talk)[\"'][^>]*\\/>.*?<popStream[^>]*>/m, '')\n",
    "   line = line.gsub(/<stream id=\"Spells\">.*?<\\/stream>/m, '')\n",
    "   line = line.gsub(/<(compDef|inv|component|right|left|spell|prompt)[^>]*>.*?<\\/\\1>/m, '')\n",
    "   line = line.gsub(/<[^>]+>/, '')\n",
    "   line = line.gsub('&gt;', '>')\n",
    "   line = line.gsub('&lt;', '<')\n",
    "\n",
    "   return nil if line.gsub(\"\\n\", '').gsub(\"\\r\", '').gsub(' ', '').length < 1\n",
    "   return line\n",
    "end\n",
    "```"
   ],
   "cell_type": "markdown",
   "metadata": {}
  },
  {
   "cell_type": "code",
   "execution_count": 63,
   "metadata": {},
   "outputs": [],
   "source": [
    "processed_lines = []\n",
    "for line in lines:\n",
    "    res = parser.strip(line)\n",
    "    if res:\n",
    "        processed_lines.append(res)"
   ]
  },
  {
   "cell_type": "code",
   "execution_count": 65,
   "metadata": {},
   "outputs": [
    {
     "output_type": "execute_result",
     "data": {
      "text/plain": [
       "['Please wait for connection to game server.\\n',\n",
       " 'Welcome to DragonRealms (R) v2.00\\n',\n",
       " 'Copyright 2021 Simutronics Corp.\\n',\n",
       " 'All Rights Reserved\\n',\n",
       " \"Your worn items are:\\n  some polished thin-edged zills with silvered esoteric filigree\\n  a floppy boar-hide hat\\n  a lumium ring helm\\n  a kyanite gwethdesuan\\n  a dull serpent earcuff\\n  a dull serpent earcuff\\n  a lumium ring mask\\n  a gaethzen sphere\\n  a dark watersilk bag bearing a detailed cambrinth medallion\\n  a soft white thigh quiver of snow leopard fur artfully wrapped with silver thread\\n  a narrow gold bracer engraved with the seal of the Lunar Accord\\n  a crystal-inset oaken staff surmounted with a lumpy spleen\\n  a heavy silk duffel bag\\n  a light cherry forester's crossbow with a slender stock\\n  a large hunting pack crafted from wyvern hide\\n  an elegant charcoal black linen shirt embellished with monogrammed black ruby intaglio cufflinks\\n  a double-breasted grey rabbit's hide greatcoat trimmed with soft leather\\n  a lumium ring hauberk\\n  a double nestled armband made of cambrinth and covered with tiny gems\\n  some silver-chased elbow spikes\\n  a small puffy-white shield sealed with protective wax\\n  a simple steel parry stick\\n  some flame-discolored hand claws tipped with sharpened black katambite with hints of gold\\n  some lumium ring gloves\\n  an ornate alerce ring\\n  a fuzzy gem pouch\\n  a lockpick ring\\n  a silver-hilted skinning knife displaying the Moon Mage Guild crest\\n  some blackened steel knee spikes\\n  some steel-toed footwraps\\n\\n\",\n",
       " '</\\n',\n",
       " 'component>\\n',\n",
       " '</componen\\n',\n",
       " 't>\\n',\n",
       " \"Your worn items are:\\n  some polished thin-edged zills with silvered esoteric filigree\\n  a floppy boar-hide hat\\n  a lumium ring helm\\n  a kyanite gwethdesuan\\n  a dull serpent earcuff\\n  a dull serpent earcuff\\n  a lumium ring mask\\n  a gaethzen sphere\\n  a dark watersilk bag bearing a detailed cambrinth medallion\\n  a soft white thigh quiver of snow leopard fur artfully wrapped with silver thread\\n  a narrow gold bracer engraved with the seal of the Lunar Accord\\n  a crystal-inset oaken staff surmounted with a lumpy spleen\\n  a heavy silk duffel bag\\n  a light cherry forester's crossbow with a slender stock\\n  a large hunting pack crafted from wyvern hide\\n  an elegant charcoal black linen shirt embellished with monogrammed black ruby intaglio cufflinks\\n  a double-breasted grey rabbit's hide greatcoat trimmed with soft leather\\n  a lumium ring hauberk\\n  a double nestled armband made of cambrinth and covered with tiny gems\\n  some silver-chased elbow spikes\\n  a small puffy-white shield sealed with protective wax\\n  a simple steel parry stick\\n  some flame-discolored hand claws tipped with sharpened black katambite with hints of gold\\n  some lumium ring gloves\\n  an ornate alerce ring\\n  a fuzzy gem pouch\\n  a lockpick ring\\n  a silver-hilted skinning knife displaying the Moon Mage Guild crest\\n  some blackened steel knee spikes\\n  some steel-toed footwraps\\n\\n\"]"
      ]
     },
     "metadata": {},
     "execution_count": 65
    }
   ],
   "source": [
    "processed_lines[:10]"
   ]
  }
 ]
}