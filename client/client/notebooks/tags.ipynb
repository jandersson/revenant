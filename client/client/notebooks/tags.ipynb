{
 "metadata": {
  "language_info": {
   "codemirror_mode": {
    "name": "ipython",
    "version": 3
   },
   "file_extension": ".py",
   "mimetype": "text/x-python",
   "name": "python",
   "nbconvert_exporter": "python",
   "pygments_lexer": "ipython3",
   "version": "3.8.10"
  },
  "orig_nbformat": 4,
  "kernelspec": {
   "name": "python3",
   "display_name": "Python 3.8.10 64-bit"
  },
  "interpreter": {
   "hash": "31f2aee4e71d21fbe5cf8b01ff0e069b9275f58929596ceb00d14d90e3e16cd6"
  }
 },
 "nbformat": 4,
 "nbformat_minor": 2,
 "cells": [
  {
   "source": [
    "Trying to emulate what lich.rb::XMLParser does to get a handle on how it works"
   ],
   "cell_type": "markdown",
   "metadata": {}
  },
  {
   "cell_type": "code",
   "execution_count": 6,
   "metadata": {},
   "outputs": [
    {
     "output_type": "execute_result",
     "data": {
      "text/plain": [
       "True"
      ]
     },
     "metadata": {},
     "execution_count": 6
    }
   ],
   "source": [
    "import pathlib\n",
    "\n",
    "log = pathlib.Path.cwd().parents[2] / \"revenant_game.log\"\n",
    "log.exists()"
   ]
  },
  {
   "cell_type": "code",
   "execution_count": 7,
   "metadata": {},
   "outputs": [],
   "source": [
    "with open(log) as infile:\n",
    "    lines = infile.readlines()"
   ]
  },
  {
   "cell_type": "code",
   "execution_count": 15,
   "metadata": {},
   "outputs": [
    {
     "output_type": "execute_result",
     "data": {
      "text/plain": [
       "[\"<compDef id='exp Outdoorsmanship'></compDef>\\n\",\n",
       " \"<compDef id='exp Skinning'></compDef>\\n\",\n",
       " \"<compDef id='exp Forging'></compDef>\\n\",\n",
       " \"<compDef id='exp Engineering'></compDef>\\n\",\n",
       " \"<compDef id='exp Outfitting'></compDef>\\n\"]"
      ]
     },
     "metadata": {},
     "execution_count": 15
    }
   ],
   "source": [
    "lines[100:105]"
   ]
  },
  {
   "cell_type": "code",
   "execution_count": 12,
   "metadata": {},
   "outputs": [
    {
     "output_type": "execute_result",
     "data": {
      "text/plain": [
       "\"<playerID id='440984'/>\\n\""
      ]
     },
     "metadata": {},
     "execution_count": 12
    }
   ],
   "source": [
    "server_time = None\n",
    "last_tag = \"\"\n",
    "last_id = \"\"\n",
    "def reset():\n",
    "    current_stream = \"\"\n",
    "    current_style = \"\"\n",
    "    active_tags = []\n",
    "    active_ids = []\n"
   ]
  },
  {
   "source": [
    "Unescaping numeric character references"
   ],
   "cell_type": "markdown",
   "metadata": {}
  },
  {
   "cell_type": "code",
   "execution_count": 16,
   "metadata": {},
   "outputs": [],
   "source": [
    "import html"
   ]
  },
  {
   "cell_type": "code",
   "execution_count": 32,
   "metadata": {},
   "outputs": [
    {
     "output_type": "execute_result",
     "data": {
      "text/plain": [
       "'<compass></compass><prompt time=\"1626723480\">&gt;</prompt>\\n'"
      ]
     },
     "metadata": {},
     "execution_count": 32
    }
   ],
   "source": [
    "lines[297]"
   ]
  },
  {
   "cell_type": "code",
   "execution_count": 33,
   "metadata": {},
   "outputs": [
    {
     "output_type": "execute_result",
     "data": {
      "text/plain": [
       "'<compass></compass><prompt time=\"1626723480\">></prompt>\\n'"
      ]
     },
     "metadata": {},
     "execution_count": 33
    }
   ],
   "source": [
    "html.unescape(lines[297])"
   ]
  },
  {
   "cell_type": "code",
   "execution_count": 37,
   "metadata": {},
   "outputs": [],
   "source": [
    "t = '<prompt time=\"1626723480\">&gt;</prompt>\\n'"
   ]
  },
  {
   "cell_type": "code",
   "execution_count": 44,
   "metadata": {},
   "outputs": [],
   "source": [
    "import re\n"
   ]
  },
  {
   "source": [
    "```\n",
    "   if str = @buffer.slice!(/^[^<]+/)\n",
    "      text(str.gsub(/&(lt|gt|quot|apos|amp)/) { @unescape[$1] })\n",
    "   elsif str = @buffer.slice!(/^<\\/[^<]+>/)\n",
    "      element = /^<\\/([^\\s>\\/]+)/.match(str).captures.first\n",
    "      tag_end(element)\n",
    "   elsif str = @buffer.slice!(/^<[^<]+>/)\n",
    "      element = /^<([^\\s>\\/]+)/.match(str).captures.first\n",
    "      attributes = Hash.new\n",
    "      str.scan(/([A-z][A-z0-9_\\-]*)=([\"'])(.*?)\\2/).each { |attr| attributes[attr[0]] = attr[2] }\n",
    "      tag_start(element, attributes)\n",
    "      tag_end(element) if str =~ /\\/>$/\n",
    "   else\n",
    "      break\n",
    "   end"
   ],
   "cell_type": "markdown",
   "metadata": {}
  },
  {
   "cell_type": "code",
   "execution_count": 143,
   "metadata": {
    "tags": []
   },
   "outputs": [
    {
     "output_type": "stream",
     "name": "stdout",
     "text": [
      "playerID\n{'id': '440984'}\n"
     ]
    }
   ],
   "source": [
    "active_tags = []\n",
    "bold = False\n",
    "player_id = None\n",
    "game = None\n",
    "\n",
    "unesc_re = re.compile(r\"^[^<]+\")\n",
    "end_re = re.compile(r\"^<\\/[^<]+>\")\n",
    "end_info_re = re.compile(r\"^<\\/([^\\s>\\/]+)\")\n",
    "start_re = re.compile(r\"^<[^<]+>\")\n",
    "start_info_re = re.compile(r\"^<([^\\s>\\/]+)\")\n",
    "attr_re = re.compile(r\"([A-z][A-z0-9_\\-]*)=([\\\"'])(.*?)\\2\")\n",
    "\n",
    "\n",
    "def text(text_string):\n",
    "    return text_string\n",
    "\n",
    "def tag_start(name, attributes):\n",
    "    active_tags.append(name)\n",
    "    if name == \"pushBold\":\n",
    "        self.bold = True\n",
    "    elif name == \"popBold\":\n",
    "        self.bold = False\n",
    "    elif name == 'playerID':\n",
    "        print(name)\n",
    "        print(attributes)\n",
    "        self.player_id = attributes['id']\n",
    "    elif name == \"settingsInfo\":\n",
    "        if 'instance' in attributes:\n",
    "            self.game = attributes['instance']\n",
    "\n",
    "\n",
    "for line in lines:\n",
    "    m = unesc_re.match(line)\n",
    "    if m:\n",
    "        text(html.unescape(line))\n",
    "        continue\n",
    "        # Its not a tag\n",
    "        # print(html.unescape(line))\n",
    "    m = end_re.match(line)\n",
    "    if m:\n",
    "        print(m)\n",
    "        info_match = end_info_re.match(m.group(0))\n",
    "        if info_match:\n",
    "            print(info_match)\n",
    "        continue\n",
    "    m = start_re.match(line)\n",
    "    if m:\n",
    "        info = start_info_re.match(m.group(0))\n",
    "        if info:\n",
    "            element = info.group(1)\n",
    "            attributes = {}\n",
    "            for attr in attr_re.finditer(line):\n",
    "                attributes[attr.group(1)] = attr.group(3)\n",
    "            tag_start(element, attributes)"
   ]
  },
  {
   "cell_type": "code",
   "execution_count": 191,
   "metadata": {},
   "outputs": [],
   "source": [
    "# TODO: Visitor pattern?\n",
    "\n",
    "class XMLParser:\n",
    "    \"\"\"Parser for Dragonrealms tags, directly translated from lich.rb\"\"\"\n",
    "    def __init__(self):\n",
    "        self.buffer = \"\"\n",
    "        self.active_tags = []\n",
    "        self.last_tag = None\n",
    "        self.active_ids = []\n",
    "        self.last_id = None\n",
    "        self.bold = False\n",
    "        self.player_id = None\n",
    "        self.game = None\n",
    "        self.current_stream = \"\"\n",
    "        self.current_style = \"\"\n",
    "        self.prompt = \"\"\n",
    "\n",
    "        # TODO: Rename unesc, its actually just looking for anything thats not a tag. Unescaping is just an addon.\n",
    "        self.unesc_re = re.compile(r\"^[^<]+\")\n",
    "        self.end_re = re.compile(r\"^<\\/[^<]+>\")\n",
    "        self.end_info_re = re.compile(r\"^<\\/([^\\s>\\/]+)\")\n",
    "        self.start_re = re.compile(r\"^<[^<]+>\")\n",
    "        self.start_info_re = re.compile(r\"^<([^\\s>\\/]+)\")\n",
    "        self.attr_re = re.compile(r\"([A-z][A-z0-9_\\-]*)=([\\\"'])(.*?)\\2\")\n",
    "\n",
    "    def text(self, text_string):\n",
    "        if self.active_tags and self.active_tags[-1] == 'prompt':\n",
    "            self.prompt = text_string\n",
    "            print(\"prompt: \", text_string)\n",
    "        return text_string\n",
    "\n",
    "    def parse(self, line):\n",
    "        self.buffer += line\n",
    "        m = self.unesc_re.match(line)\n",
    "        if m:\n",
    "            print(\"line: \", line)\n",
    "            self.buffer = self.unesc_re.sub(self.buffer, \"\")\n",
    "            line = self.unesc_re.sub(self.buffer, \"\")\n",
    "            # line = html.unescape(line)\n",
    "            self.text(html.unescape(line))\n",
    "            if line:\n",
    "                return line\n",
    "        m = self.end_re.match(line)\n",
    "        if m:\n",
    "            print(\"end_re match: \", m)\n",
    "            info_match = self.end_info_re.match(m.group(0))\n",
    "            if info_match:\n",
    "                print(info_match)\n",
    "            return line\n",
    "        m = start_re.match(line)\n",
    "        if m:\n",
    "            info = start_info_re.match(m.group(0))\n",
    "            if info:\n",
    "                element = info.group(1)\n",
    "                attributes = {}\n",
    "                for attr in attr_re.finditer(line):\n",
    "                    attributes[attr.group(1)] = attr.group(3)\n",
    "                self.tag_start(element, attributes)\n",
    "                self.tag_end(element)\n",
    "            return line\n",
    "        return line\n",
    "        \n",
    "    def tag_start(self, name, attributes):\n",
    "        self.active_tags.append(name)\n",
    "        if 'id' in attributes:\n",
    "            self.active_ids.append(attributes['id'])\n",
    "\n",
    "        if name == \"pushBold\":\n",
    "            self.bold = True\n",
    "        elif name == \"popBold\":\n",
    "            self.bold = False\n",
    "        elif name == 'playerID':\n",
    "            self.player_id = attributes['id']\n",
    "        elif name == \"settingsInfo\":\n",
    "            if 'instance' in attributes:\n",
    "                self.game = attributes['instance']\n",
    "\n",
    "    def tag_end(self, name):\n",
    "        if self.active_tags:\n",
    "            self.last_tag = self.active_tags.pop()\n",
    "        if self.active_ids:\n",
    "            self.last_id = self.active_ids.pop()\n",
    "\n",
    "\n",
    "    def reset(self):\n",
    "        self.current_stream = \"\"\n",
    "        self.current_style = \"\"\n",
    "        self.active_tags = []\n",
    "        self.active_ids = []"
   ]
  },
  {
   "cell_type": "code",
   "execution_count": 192,
   "metadata": {},
   "outputs": [
    {
     "output_type": "stream",
     "name": "stdout",
     "text": [
      "line:  Please wait for connection to game server.\n\nline:  \n\nline:  Welcome to DragonRealms (R) v2.00\n\nline:  Copyright 2021 Simutronics Corp.\n\nline:  All Rights Reserved\n\nline:    some polished thin-edged zills with silvered esoteric filigree\n\nline:    a floppy boar-hide hat\n\nline:    a lumium ring helm\n\nline:    a kyanite gwethdesuan\n\nline:    a dull serpent earcuff\n\nline:    a dull serpent earcuff\n\nline:    a lumium ring mask\n\nline:    a gaethzen sphere\n\nline:    a dark watersilk bag bearing a detailed cambrinth medallion\n\nline:    a soft white thigh quiver of snow leopard fur artfully wrapped with silver thread\n\nline:    a narrow gold bracer engraved with the seal of the Lunar Accord\n\nline:    a crystal-inset oaken staff surmounted with a lumpy spleen\n\nline:    a heavy silk duffel bag\n\nline:    a light cherry forester's crossbow with a slender stock\n\nline:    a large hunting pack crafted from wyvern hide\n\nline:    an elegant charcoal black linen shirt embellished with monogrammed black ruby intaglio cufflinks\n\nline:    a double-breasted grey rabbit's hide greatcoat trimmed with soft leather\n\nline:    a lumium ring hauberk\n\nline:    a double nestled armband made of cambrinth and covered with tiny gems\n\nline:    some silver-chased elbow spikes\n\nline:    a small puffy-white shield sealed with protective wax\n\nline:    a simple steel parry stick\n\nline:    some flame-discolored hand claws tipped with sharpened black katambite with hints of gold\n\nline:    some lumium ring gloves\n\nline:    an ornate alerce ring\n\nline:    a fuzzy gem pouch\n\nline:    a lockpick ring\n\nline:    a silver-hilted skinning knife displaying the Moon Mage Guild crest\n\nline:    some blackened steel knee spikes\n\nline:    some steel-toed footwraps\n\nline:  \n\nline:  component>\n\nline:  t>\n\nline:    some polished thin-edged zills with silvered esoteric filigree\n\nline:    a floppy boar-hide hat\n\nline:    a lumium ring helm\n\nline:    a kyanite gwethdesuan\n\nline:    a dull serpent earcuff\n\nline:    a dull serpent earcuff\n\nline:    a lumium ring mask\n\nline:    a gaethzen sphere\n\nline:    a dark watersilk bag bearing a detailed cambrinth medallion\n\nline:    a soft white thigh quiver of snow leopard fur artfully wrapped with silver thread\n\nline:    a narrow gold bracer engraved with the seal of the Lunar Accord\n\nline:    a crystal-inset oaken staff surmounted with a lumpy spleen\n\nline:    a heavy silk duffel bag\n\nline:    a light cherry forester's crossbow with a slender stock\n\nline:    a large hunting pack crafted from wyvern hide\n\nline:    an elegant charcoal black linen shirt embellished with monogrammed black ruby intaglio cufflinks\n\nline:    a double-breasted grey rabbit's hide greatcoat trimmed with soft leather\n\nline:    a lumium ring hauberk\n\nline:    a double nestled armband made of cambrinth and covered with tiny gems\n\nline:    some silver-chased elbow spikes\n\nline:    a small puffy-white shield sealed with protective wax\n\nline:    a simple steel parry stick\n\nline:    some flame-discolored hand claws tipped with sharpened black katambite with hints of gold\n\nline:    some lumium ring gloves\n\nline:    an ornate alerce ring\n\nline:    a fuzzy gem pouch\n\nline:    a lockpick ring\n\nline:    a silver-hilted skinning knife displaying the Moon Mage Guild crest\n\nline:    some blackened steel knee spikes\n\nline:    some steel-toed footwraps\n\nline:  \n\nline:  ----------------------------------------------------------------------------\n\nline:     Last login :  Mon Jul 19 15:29:01 ET 2021\n\nline:         Logoff :  Mon Jul 19 15:35:56 ET 2021\n\nline:  ----------------------------------------------------------------------------\n\nline:  \n\nline:  Also here: Neyo, Philosopher Gallifreius and Ashalf.\n\nline:  Obvious paths: none.\n\nline:  \n\nline:  [You are standing up.]\n\nline:            your character from the game!  Type QUIT or EXIT!\n\nline:        Scripting is ok, but you must be responsive!  NEWS 5 17!\n\nline:             Vulgarity is not allowed in public!  NEWS 5 7!\n\nline:  \n\nline:                         <a href='http://www.topmudsites.com/vote-DragonRealms.html'>Visit Top Mud Sites!</a>\n\nline:  \n\nline:      Read More: <d>DEMEANOR HELP</d>\n\nline:      [To disable these login tips, see <d>HELP TIPS</d>.]\n\nline:  *** Please check <d>NEWS NEXT</d> for unread <d>NEWS</d> items. ***\n\nline:  ******************************************************\n\nline:  Neyo climbed down a willow tree.\n\nline:  Gallifreius frowns solemnly.\n\nline:  Gallifreius exhales softly on his sanowret crystal, and scintillating sparks of light dance across its surface.\n\nline:  Also here: Philosopher Gallifreius and Ashalf.\n\nline:  Obvious paths: none.\n\nline:  \n\nline:  Name: Moromancer Crannach Radamenth of Elanthia   Race: Human   Guild: Moon Mage\n\nline:  Gender: Male   Age: 100   Circle: 200\n\nline:  You were born on the 10th day of the 5th month of Uthmor the Giant in the year of the Golden Panther, 338 years after the victory of Lanival the Redeemer.\n\nline:  \n\nline:  Your birthday is more than 5 months away.\n\nline:  \n\nline:       Strength : 100              Reflex : 100    \n\nline:        Agility : 100            Charisma : 100    \n\nline:     Discipline : 100              Wisdom : 100    \n\nline:   Intelligence : 127             Stamina : 100    \n\nline:  \n\nline:  Concentration : 595    Max : 595\n\nline:  \n\nline:         Favors : 15\n\nline:           TDPs : 1482\n\nline:    Encumbrance : None\n\nline:           Luck : Average\n\nline:  \n\nline:  Wealth:\n\nline:    3 silver Kronars (300 copper Kronars).\n\nline:    No Lirums.\n\nline:    No Dokoras.\n\nline:  \n\nline:  Debt:\n\nline:    You owe 1 platinum, 3 gold and 5 silver Dokoras to the Domain of Ilithi. (13500 copper Dokoras)\n\nline:    [You can pay off this debt in person at the respective provincial debt office or by calling for an urchin runner with <d>BANK DEBT</d>.]\n\nline:  \n\nline:  You are Moromancer Crannach Radamenth of Elanthia, a Human.\n\nline:  You have crystal blue eyes.  Your silver hair is short and wavy, and is worn unkempt.  You have tanned skin.\n\nline:  You are ancient.\n\nline:  You have a thick bushy mustache that droops heavily on your upper lip and a long shaggy beard.\n\nline:  \n\nline:  You have faint scuffing to the right hand.\n\nline:  You are in good shape.\n\nline:  \n\nline:  You are wearing some polished thin-edged zills with silvered esoteric filigree, a floppy boar-hide hat, a lumium ring helm, a kyanite gwethdesuan, a dull serpent earcuff, a dull serpent earcuff, a lumium ring mask, a gaethzen sphere, a dark watersilk bag bearing a detailed cambrinth medallion, a soft white thigh quiver of snow leopard fur artfully wrapped with silver thread, a narrow gold bracer engraved with the seal of the Lunar Accord, a crystal-inset oaken staff surmounted with a lumpy spleen, a heavy silk duffel bag, a light cherry forester's crossbow with a slender stock, a large hunting pack crafted from wyvern hide, an elegant charcoal black linen shirt embellished with monogrammed black ruby intaglio cufflinks, a double-breasted grey rabbit's hide greatcoat trimmed with soft leather, a lumium ring hauberk, a double nestled armband made of cambrinth and covered with tiny gems, some silver-chased elbow spikes, a small puffy-white shield sealed with protective wax, a simple steel parry stick, some flame-discolored hand claws tipped with sharpened black katambite with hints of gold, some lumium ring gloves, an ornate alerce ring, a fuzzy gem pouch, a lockpick ring, a silver-hilted skinning knife displaying the Moon Mage Guild crest, some blackened steel knee spikes and some steel-toed footwraps.\n\nline:  Gallifreius exhales softly on his sanowret crystal, and scintillating sparks of light dance across its surface.\n\nline:  Gallifreius frowns solemnly.\n\nline:  \n\nline:  Circle: 200\n\nline:  Showing all skills with field experience.\n\nline:  \n\nline:            SKILL: Rank/Percent towards next rank/Amount learning/Mindstate Fraction\n\nline:  \n\nline:          No skills have field experience or none meet your criteria!\n\nline:  \n\nline:  Total Ranks Displayed: 0\n\nline:  Time Development Points: 1482  Favors: 15  Deaths: 89  Departs: 55\n\nline:  Rested EXP Stored: 4 hours  Usable This Cycle: 4 hours  Cycle Refreshes: 18 hours\n\nline:  Overall state of mind: clear\n\nline:  \n\nline:  You are relaxed and your mind has entered a light state of rest.  To wake up and start learning again, type: AWAKEN.  To enter a deep state of rest, enter the SLEEP command again.\n\nline:  EXP HELP for more information\n\nline:  Gallifreius exhales softly on his sanowret crystal, and scintillating sparks of light dance across its surface.\n\nline:  Gallifreius frowns solemnly.\n\nline:  You sense an overall decrease in Lunar mana.\n\nline:  Gallifreius exhales softly on his sanowret crystal, and scintillating sparks of light dance across its surface.\n\nline:  Gallifreius frowns solemnly.\n\nline:  Kihenal climbed up a willow tree.\n\nline:  Kihenal climbed down a willow tree.\n\nline:  Most of the clouds drift away to reveal starry skies.\n\nline:  Koyote climbed up a willow tree.\n\nline:  Koyote climbed down a willow tree.\n\nline:  Gallifreius exhales softly on his sanowret crystal, and scintillating sparks of light dance across its surface.\n\nline:  Koyote climbed up a willow tree.\n\nline:  Koyote climbed down a willow tree.\n\nline:  Karlander climbed up a willow tree.\n\nline:  Karlander climbed down a willow tree.\n\nline:  Koyote climbed up a willow tree.\n\nline:  Koyote climbed down a willow tree.\n\nline:  Kihenal climbed up a willow tree.\n\nline:  Kihenal climbed down a willow tree.\n\nline:  Gallifreius frowns solemnly.\n\nline:  Koyote climbed up a willow tree.\n\nline:  Koyote climbed down a willow tree.\n\nline:  Gallifreius exhales softly on his sanowret crystal, and scintillating sparks of light dance across its surface.\n\nline:  Karlander climbed up a willow tree.\n\nline:  Karlander climbed down a willow tree.\n\nline:  Gallifreius frowns solemnly.\n\n"
     ]
    }
   ],
   "source": [
    "processed_lines = []\n",
    "parser = XMLParser()\n",
    "for line in lines:\n",
    "    proc_line = parser.parse(line)\n",
    "    processed_lines.append(proc_line)"
   ]
  },
  {
   "cell_type": "code",
   "execution_count": 193,
   "metadata": {},
   "outputs": [
    {
     "output_type": "execute_result",
     "data": {
      "text/plain": [
       "''"
      ]
     },
     "metadata": {},
     "execution_count": 193
    }
   ],
   "source": [
    "# potential unit tests\n",
    "assert parser.player_id == '440984'\n",
    "parser.active_ids\n",
    "parser.prompt"
   ]
  },
  {
   "cell_type": "code",
   "execution_count": 188,
   "metadata": {},
   "outputs": [
    {
     "output_type": "execute_result",
     "data": {
      "text/plain": [
       "['Please wait for connection to game server.\\n',\n",
       " \"<playerID id='440984'/>\\n\",\n",
       " '<mode id=\"GAME\"/><settingsInfo  client=\"1.0.1.26\" major=\"652\" crc=\\'1714388481\\' instance=\\'DR\\'/>\\n',\n",
       " '\\n',\n",
       " 'Welcome to DragonRealms (R) v2.00\\n',\n",
       " 'Copyright 2021 Simutronics Corp.\\n',\n",
       " 'All Rights Reserved\\n',\n",
       " '<mode id=\"GAME\"/>\\n',\n",
       " '<app char=\"Crannach\" game=\"DR\" title=\"[DR: Crannach] StormFront\"/>\\n',\n",
       " '<streamWindow id=\"main\" title=\"Story\" location=\"center\" target=\"drop\" resident=\"true\"/>\\n',\n",
       " \"<streamWindow id='inv' title='My Inventory' target='wear' ifClosed='' resident='true'/><clearStream id='inv' ifClosed=''/><pushStream id='inv'/>Your worn items are:\\n\",\n",
       " '  some polished thin-edged zills with silvered esoteric filigree\\n',\n",
       " '  a floppy boar-hide hat\\n',\n",
       " '  a lumium ring helm\\n',\n",
       " '  a kyanite gwethdesuan\\n',\n",
       " '  a dull serpent earcuff\\n',\n",
       " '  a dull serpent earcuff\\n',\n",
       " '  a lumium ring mask\\n',\n",
       " '  a gaethzen sphere\\n',\n",
       " '  a dark watersilk bag bearing a detailed cambrinth medallion\\n',\n",
       " '  a soft white thigh quiver of snow leopard fur artfully wrapped with silver thread\\n',\n",
       " '  a narrow gold bracer engraved with the seal of the Lunar Accord\\n',\n",
       " '  a crystal-inset oaken staff surmounted with a lumpy spleen\\n',\n",
       " '  a heavy silk duffel bag\\n',\n",
       " \"  a light cherry forester's crossbow with a slender stock\\n\",\n",
       " '  a large hunting pack crafted from wyvern hide\\n',\n",
       " '  an elegant charcoal black linen shirt embellished with monogrammed black ruby intaglio cufflinks\\n',\n",
       " \"  a double-breasted grey rabbit's hide greatcoat trimmed with soft leather\\n\",\n",
       " '  a lumium ring hauberk\\n',\n",
       " '  a double nestled armband made of cambrinth and covered with tiny gems\\n',\n",
       " '  some silver-chased elbow spikes\\n',\n",
       " '  a small puffy-white shield sealed with protective wax\\n',\n",
       " '  a simple steel parry stick\\n',\n",
       " '  some flame-discolored hand claws tipped with sharpened black katambite with hints of gold\\n',\n",
       " '  some lumium ring gloves\\n',\n",
       " '  an ornate alerce ring\\n',\n",
       " '  a fuzzy gem pouch\\n',\n",
       " '  a lockpick ring\\n',\n",
       " '  a silver-hilted skinning knife displaying the Moon Mage Guild crest\\n',\n",
       " '  some blackened steel knee spikes\\n',\n",
       " '  some steel-toed footwraps\\n',\n",
       " '<popStream/>\\n',\n",
       " '<exposeContainer id=\\'stow\\'/><container id=\\'stow\\' title=\"My Pack\" target=\\'#15899922\\' location=\\'right\\' save=\\'\\' resident=\\'true\\'/><clearContainer id=\"stow\"/><inv id=\\'stow\\'>In the pack:</inv><inv id=\\'stow\\'> some quilted heavy burlap pants with a reinforced design</inv><inv id=\\'stow\\'> some quilted heavy burlap gloves with a reinforced design</inv><inv id=\\'stow\\'> some plate vambraces etched with an intricate knotwork design</inv><inv id=\\'stow\\'> a steel scale lorica</inv><inv id=\\'stow\\'> a light lumium plate aventail</inv><inv id=\\'stow\\'> a light lumium plate mask</inv><inv id=\\'stow\\'> a slice of metal cheesecake</inv><inv id=\\'stow\\'> a steel bar mace</inv><inv id=\\'stow\\'> an azurelle longbow carved with rearing dragons</inv><inv id=\\'stow\\'> a steel light spear</inv><inv id=\\'stow\\'> an ivory telescope inlaid with a ruby-eyed golden dragon</inv><inv id=\\'stow\\'> a steel bastard sword</inv><inv id=\\'stow\\'> a fuzzy gem pouch</inv><inv id=\\'stow\\'> a fuzzy gem pouch</inv><inv id=\\'stow\\'> a fuzzy gem pouch</inv><inv id=\\'stow\\'> a fuzzy gem pouch</inv><inv id=\\'stow\\'> a fuzzy gem pouch</inv><inv id=\\'stow\\'> a fuzzy gem pouch</inv><inv id=\\'stow\\'> a fuzzy gem pouch</inv><inv id=\\'stow\\'> a fuzzy gem pouch</inv><inv id=\\'stow\\'> a fuzzy gem pouch</inv><inv id=\\'stow\\'> a fuzzy gem pouch</inv><inv id=\\'stow\\'> a fuzzy gem pouch</inv><inv id=\\'stow\\'> some light lumium plate gauntlets</inv><inv id=\\'stow\\'> an ice pick</inv><inv id=\\'stow\\'> some lumium scale gloves</inv><inv id=\\'stow\\'> a weathered textbook with a tattered cover</inv><inv id=\\'stow\\'> an ice pick</inv><inv id=\\'stow\\'> a fuzzy gem pouch</inv><inv id=\\'stow\\'> some pristine white vellum charts inked in silver</inv><inv id=\\'stow\\'> a fuzzy gem pouch</inv><inv id=\\'stow\\'> some bundling rope</inv><inv id=\\'stow\\'> a fuzzy gem pouch</inv><inv id=\\'stow\\'> some blue ice skates embroidered with a white gladiolus</inv><inv id=\\'stow\\'> a fuzzy gem pouch</inv><inv id=\\'stow\\'> a teeny yellow notebook bound with curled green ribbons</inv><inv id=\\'stow\\'> a sunset-hued scroll booklet displaying a golden sunburst</inv><inv id=\\'stow\\'> a fuzzy gem pouch</inv><inv id=\\'stow\\'> a bone-trimmed wayerd pyramid</inv><inv id=\\'stow\\'> some bundling rope</inv><inv id=\\'stow\\'> a book of master weaponsmithing instructions</inv><inv id=\\'stow\\'> a pitted forging kit with leather straps</inv><inv id=\\'stow\\'> a forging work order logbook</inv><inv id=\\'stow\\'> a book of journeyman armorsmithing instructions</inv><inv id=\\'stow\\'> a steel ring balaclava</inv><inv id=\\'stow\\'> a book of master blacksmithing instructions</inv><inv id=\\'stow\\'> a coarse paper starchart</inv><inv id=\\'stow\\'> a curved iron shovel</inv><inv id=\\'stow\\'> a book of master tailoring instructions</inv><inv id=\\'stow\\'> a fuzzy gem pouch</inv><inv id=\\'stow\\'> a fuzzy gem pouch</inv><inv id=\\'stow\\'> a fuzzy gem pouch</inv><inv id=\\'stow\\'> a fuzzy gem pouch</inv><inv id=\\'stow\\'> a deed register</inv><inv id=\\'stow\\'> a bone-trimmed wayerd pyramid</inv><inv id=\\'stow\\'> a fuzzy gem pouch</inv><inv id=\\'stow\\'> a fuzzy gem pouch</inv><inv id=\\'stow\\'> a fuzzy gem pouch</inv><inv id=\\'stow\\'> a gleaming electrum yardstick</inv><inv id=\\'stow\\'> a simple tailor\\'s kit</inv><inv id=\\'stow\\'> an uneven stack of scrolls held together by a tattered shoestring</inv><inv id=\\'stow\\'> a reused funeral black tome</inv><inv id=\\'stow\\'> an enormous wizard\\'s tome with symbols across the icesteel-gilt spine</inv><inv id=\\'stow\\'> an ornately bound scroll folio dyed a pale violet</inv><inv id=\\'stow\\'> a fuzzy gem pouch</inv><inv id=\\'stow\\'> an ice pick</inv><inv id=\\'stow\\'> a fuzzy gem pouch</inv><inv id=\\'stow\\'> a memory orb</inv><inv id=\\'stow\\'> a glowing Meraud orb</inv><inv id=\\'stow\\'> a worn and tattered map</inv><inv id=\\'stow\\'> a hide sling</inv><inv id=\\'stow\\'> some tapered steel knitting needles</inv><inv id=\\'stow\\'> a small aubergine telescope fit with an eyepiece of electrum</inv><inv id=\\'stow\\'> a small orchid telescope fit with an eyepiece of palladium</inv><inv id=\\'stow\\'> a fuzzy gem pouch</inv><inv id=\\'stow\\'> an ice pick</inv><inv id=\\'stow\\'> a fuzzy gem pouch</inv><inv id=\\'stow\\'> a fuzzy gem pouch</inv><inv id=\\'stow\\'> a fuzzy gem pouch</inv><inv id=\\'stow\\'> a fuzzy gem pouch</inv><inv id=\\'stow\\'> a fuzzy gem pouch</inv><inv id=\\'stow\\'> a fuzzy gem pouch</inv><inv id=\\'stow\\'> a fuzzy gem pouch</inv><inv id=\\'stow\\'> a fuzzy gem pouch</inv><inv id=\\'stow\\'> a fuzzy gem pouch</inv><inv id=\\'stow\\'> a fuzzy gem pouch</inv><inv id=\\'stow\\'> a fuzzy gem pouch</inv><inv id=\\'stow\\'> an ice pick</inv><inv id=\\'stow\\'> a small beige telescope fit with an eyepiece of rencate</inv><inv id=\\'stow\\'> a midnight blue chamois cloth embroidered with tiny constellations along one edge</inv><openDialog type=\\'dynamic\\' id=\\'minivitals\\' title=\\'Stats\\' location=\\'statBar\\'><dialogData id=\\'minivitals\\'></dialogData></openDialog>\\n',\n",
       " \"<dialogData id='minivitals'><skin id='healthSkin' name='healthBar' controls='health' left='0%' top='0%' width='20%' height='100%'/><progressBar id='health' value='100' text='health 100%' left='0%' customText='t' top='0%' width='20%' height='100%'/></dialogData>\\n\",\n",
       " \"<dialogData id='minivitals'><skin id='manaSkin' name='manaBar' controls='mana' left='20%' top='0%' width='20%' height='100%'/><progressBar id='mana' value='100' text='mana 100%' left='20%' customText='t' top='0%' width='20%' height='100%'/></dialogData>\\n\",\n",
       " \"<dialogData id='minivitals'><skin id='spiritSkin' name='spiritBar' controls='spirit' left='60%' top='0%' width='20%' height='100%'/><progressBar id='spirit' value='100' text='spirit 100%' left='60%' customText='t' top='0%' width='20%' height='100%'/></dialogData>\\n\",\n",
       " \"<dialogData id='minivitals'><skin id='staminaSkin' name='staminaBar' controls='stamina' left='40%' top='0%' width='20%' height='100%'/><progressBar id='stamina' value='100' text='fatigue 100%' left='40%' customText='t' top='0%' width='20%' height='100%'/></dialogData>\\n\",\n",
       " \"<dialogData id='minivitals'><progressBar id='concentration' value='100' text='concentration 100%' left='80%' customText='t' top='0%' width='20%' height='100%'/></dialogData>\\n\",\n",
       " '<openDialog type=\"dynamic\" id=\"befriend\" title=\"Friends &amp;&amp; Enemies\" location=\"right\" target=\"befriend\" height=\"165\" resident=\"true\"><dialogData id=\"befriend\"></dialogData></openDialog>\\n',\n",
       " '<dialogData id=\"befriend\" clear=\"t\"></dialogData>\\n',\n",
       " '<dialogData id=\"befriend\"><menuLink id=\"friend1\" value=\"Dijkstra\" exist=\"-10565760\" noun=\"Dijkstra\" align=\"nw\" top=\"0\" left=\"0\" width=\"100\"/><menuImage id=\"demeanor1\" name=\"warmFace\" tooltip=\"Warm\" exist=\"-10565760\" noun=\"Dijkstra\" align=\"nw\" top=\"0\" left=\"100\" height=\"25\" width=\"25\"/><image id=\\'remove1\\' name=\\'crossFace\\' cmd=\\'befriend clear 1\\' align=\\'nw\\' top=\"0\" left=\"130\" height=\"25\" width=\"25\" tooltip=\"Remove\" echo=\"befriend clear 1\"/><menuLink id=\"friend2\" value=\"Fallanor\" exist=\"-10481514\" noun=\"Fallanor\" align=\"nw\" top=\"30\" left=\"0\" width=\"100\"/><menuImage id=\"demeanor2\" name=\"friendlyFace\" tooltip=\"Friendly\" exist=\"-10481514\" noun=\"Fallanor\" align=\"nw\" top=\"30\" left=\"100\" height=\"25\" width=\"25\"/><image id=\\'remove2\\' name=\\'crossFace\\' cmd=\\'befriend clear 2\\' align=\\'nw\\' top=\"30\" left=\"130\" height=\"25\" width=\"25\" tooltip=\"Remove\" echo=\"befriend clear 2\"/><menuLink id=\"friend3\" value=\"Crescentmoon\" exist=\"-10577485\" noun=\"Crescentmoon\" align=\"nw\" top=\"60\" left=\"0\" width=\"100\"/><menuImage id=\"demeanor3\" name=\"friendlyFace\" tooltip=\"Friendly\" exist=\"-10577485\" noun=\"Crescentmoon\" align=\"nw\" top=\"60\" left=\"100\" height=\"25\" width=\"25\"/><image id=\\'remove3\\' name=\\'crossFace\\' cmd=\\'befriend clear 3\\' align=\\'nw\\' top=\"60\" left=\"130\" height=\"25\" width=\"25\" tooltip=\"Remove\" echo=\"befriend clear 3\"/></dialogData>\\n',\n",
       " '<streamWindow id=\"familiar\" title=\"Familiar\" location=\"center\" resident=\"true\" styleIfClosed=\"watching\"/>\\n',\n",
       " '<streamWindow id=\"thoughts\" title=\"Thoughts\" location=\"center\" resident=\"true\" styleIfClosed=\"thought\" timestamp=\"on\"/>\\n',\n",
       " '<streamWindow id=\"logons\" title=\"Arrivals\" location=\"left\" resident=\"true\" nameFilterOption=\"true\" timestamp=\"on\"/>\\n',\n",
       " '<streamWindow id=\"death\" title=\"Deaths\" location=\"left\" resident=\"true\" nameFilterOption=\"true\" timestamp=\"on\"/>\\n',\n",
       " '<streamWindow id=\"assess\" title=\"Assess\" location=\"right\" resident=\"true\"/>\\n',\n",
       " \"<streamWindow id='conversation' title='Conversation' location='center' resident='true' ifClosed='' timestamp='on'/>\\n\",\n",
       " \"<streamWindow id='whispers' title='Whispers' location='center' resident='true' timestamp='on' ifClosed='conversation'/>\\n\",\n",
       " \"<streamWindow id='talk' title='Talk' location='center' resident='true' timestamp='on' ifClosed='conversation'/>\\n\",\n",
       " \"<streamWindow id='experience' title='Field Experience' location='center' target='drop' ifClosed='' resident='true'/><clearStream id='experience'/><pushStream id='experience'/><output class='mono'/>\\n\",\n",
       " \"<compDef id='exp Shield Usage'></compDef>\\n\",\n",
       " \"<compDef id='exp Light Armor'></compDef>\\n\",\n",
       " \"<compDef id='exp Chain Armor'></compDef>\\n\",\n",
       " \"<compDef id='exp Brigandine'></compDef>\\n\",\n",
       " \"<compDef id='exp Plate Armor'></compDef>\\n\",\n",
       " \"<compDef id='exp Defending'></compDef>\\n\",\n",
       " \"<compDef id='exp Parry Ability'></compDef>\\n\",\n",
       " \"<compDef id='exp Small Edged'></compDef>\\n\",\n",
       " \"<compDef id='exp Large Edged'></compDef>\\n\",\n",
       " \"<compDef id='exp Twohanded Edged'></compDef>\\n\",\n",
       " \"<compDef id='exp Small Blunt'></compDef>\\n\",\n",
       " \"<compDef id='exp Large Blunt'></compDef>\\n\",\n",
       " \"<compDef id='exp Twohanded Blunt'></compDef>\\n\",\n",
       " \"<compDef id='exp Slings'></compDef>\\n\",\n",
       " \"<compDef id='exp Bow'></compDef>\\n\",\n",
       " \"<compDef id='exp Crossbow'></compDef>\\n\",\n",
       " \"<compDef id='exp Staves'></compDef>\\n\",\n",
       " \"<compDef id='exp Polearms'></compDef>\\n\",\n",
       " \"<compDef id='exp Light Thrown'></compDef>\\n\",\n",
       " \"<compDef id='exp Heavy Thrown'></compDef>\\n\",\n",
       " \"<compDef id='exp Brawling'></compDef>\\n\",\n",
       " \"<compDef id='exp Offhand Weapon'></compDef>\\n\",\n",
       " \"<compDef id='exp Melee Mastery'></compDef>\\n\",\n",
       " \"<compDef id='exp Missile Mastery'></compDef>\\n\",\n",
       " \"<compDef id='exp Lunar Magic'></compDef>\\n\",\n",
       " \"<compDef id='exp Attunement'></compDef>\\n\",\n",
       " \"<compDef id='exp Arcana'></compDef>\\n\",\n",
       " \"<compDef id='exp Targeted Magic'></compDef>\\n\",\n",
       " \"<compDef id='exp Augmentation'></compDef>\\n\",\n",
       " \"<compDef id='exp Debilitation'></compDef>\\n\",\n",
       " \"<compDef id='exp Utility'></compDef>\\n\",\n",
       " \"<compDef id='exp Warding'></compDef>\\n\",\n",
       " \"<compDef id='exp Sorcery'></compDef>\\n\",\n",
       " \"<compDef id='exp Evasion'></compDef>\\n\",\n",
       " \"<compDef id='exp Athletics'></compDef>\\n\",\n",
       " \"<compDef id='exp Perception'></compDef>\\n\",\n",
       " \"<compDef id='exp Stealth'></compDef>\\n\",\n",
       " \"<compDef id='exp Locksmithing'></compDef>\\n\",\n",
       " \"<compDef id='exp Thievery'></compDef>\\n\",\n",
       " \"<compDef id='exp First Aid'></compDef>\\n\"]"
      ]
     },
     "metadata": {},
     "execution_count": 188
    }
   ],
   "source": [
    "processed_lines[:100]"
   ]
  },
  {
   "cell_type": "code",
   "execution_count": 111,
   "metadata": {},
   "outputs": [
    {
     "output_type": "execute_result",
     "data": {
      "text/plain": [
       "<re.Match object; span=(10, 21), match=\"id='440984'\">"
      ]
     },
     "metadata": {},
     "execution_count": 111
    }
   ],
   "source": [
    "m = start_re.match(lines[1])\n",
    "start_info = start_info_re.match(m.group(0))\n",
    "attr_re.search(lines[1])"
   ]
  }
 ]
}